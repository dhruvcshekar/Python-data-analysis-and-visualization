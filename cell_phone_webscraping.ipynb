{
  "nbformat": 4,
  "nbformat_minor": 0,
  "metadata": {
    "colab": {
      "provenance": [],
      "authorship_tag": "ABX9TyPTQklZQ0WH7RGKrF43u28f",
      "include_colab_link": true
    },
    "kernelspec": {
      "name": "python3",
      "display_name": "Python 3"
    },
    "language_info": {
      "name": "python"
    }
  },
  "cells": [
    {
      "cell_type": "markdown",
      "metadata": {
        "id": "view-in-github",
        "colab_type": "text"
      },
      "source": [
        "<a href=\"https://colab.research.google.com/github/dhruvcshekar/Dhruv/blob/main/cell_phone_webscraping.ipynb\" target=\"_parent\"><img src=\"https://colab.research.google.com/assets/colab-badge.svg\" alt=\"Open In Colab\"/></a>"
      ]
    },
    {
      "cell_type": "code",
      "execution_count": null,
      "metadata": {
        "id": "_O-_l_t8pJZj"
      },
      "outputs": [],
      "source": [
        "from bs4 import BeautifulSoup\n",
        "\n",
        "import requests\n",
        "import pandas as pd"
      ]
    },
    {
      "cell_type": "code",
      "source": [
        "url = \"https://www.amazon.in/s?k=mobile+phone&crid=35JOM2GA5EPCF&sprefix=mobile+phone%2Caps%2C348&ref=nb_sb_noss_1\""
      ],
      "metadata": {
        "id": "oBdlyp5IpMsZ"
      },
      "execution_count": null,
      "outputs": []
    },
    {
      "cell_type": "code",
      "source": [
        "headers= ({'User-Agent':'', 'Accept-Language':'en-US,en:q=0.5'})"
      ],
      "metadata": {
        "id": "TV1xaA9HpUes"
      },
      "execution_count": null,
      "outputs": []
    },
    {
      "cell_type": "code",
      "source": [
        "webpage= requests.get(url, headers=headers)\n",
        "print(webpage)"
      ],
      "metadata": {
        "colab": {
          "base_uri": "https://localhost:8080/"
        },
        "id": "kJXlCMbVpUqx",
        "outputId": "94c4e5b0-5149-4ce0-c1a6-239479a87350"
      },
      "execution_count": null,
      "outputs": [
        {
          "output_type": "stream",
          "name": "stdout",
          "text": [
            "<Response [200]>\n"
          ]
        }
      ]
    },
    {
      "cell_type": "code",
      "source": [
        "soup= BeautifulSoup(webpage.content,\"html.parser\")\n",
        "soup"
      ],
      "metadata": {
        "id": "nMWIvhYvpUsf"
      },
      "execution_count": null,
      "outputs": []
    },
    {
      "cell_type": "code",
      "source": [
        "title=soup.find_all(\"span\",attrs={\"class\":\"a-size-medium a-color-base a-text-normal\"})\n",
        "len(title)"
      ],
      "metadata": {
        "colab": {
          "base_uri": "https://localhost:8080/"
        },
        "id": "HM5KW8mGpUuF",
        "outputId": "eb3e2b85-ab29-4d7a-c7b6-b4914c7989de"
      },
      "execution_count": null,
      "outputs": [
        {
          "output_type": "execute_result",
          "data": {
            "text/plain": [
              "16"
            ]
          },
          "metadata": {},
          "execution_count": 36
        }
      ]
    },
    {
      "cell_type": "code",
      "source": [
        "tit=[]\n",
        "\n",
        "for i in title:\n",
        "  i= i.get_text().replace(\"\\n\",\" \")\n",
        "  tit.append(i)\n",
        "\n",
        "tit"
      ],
      "metadata": {
        "colab": {
          "base_uri": "https://localhost:8080/"
        },
        "id": "J60AKVvjpxrg",
        "outputId": "bbc47074-3ba0-4b4d-8dc1-56e5a51089b5"
      },
      "execution_count": null,
      "outputs": [
        {
          "output_type": "execute_result",
          "data": {
            "text/plain": [
              "['Samsung Galaxy M04 Dark Blue, 4GB RAM, 64GB Storage | Upto 8GB RAM with RAM Plus | MediaTek Helio P35 Octa-core Processor | 5000 mAh Battery | 13MP Dual Camera',\n",
              " 'Samsung Galaxy M04 Light Green, 4GB RAM, 64GB Storage | Upto 8GB RAM with RAM Plus | MediaTek Helio P35 Octa-core Processor | 5000 mAh Battery | 13MP Dual Camera',\n",
              " 'OnePlus Nord CE 3 Lite 5G (Pastel Lime, 8GB RAM, 128GB Storage)',\n",
              " 'Samsung Galaxy M13 (Aqua Green, 6GB, 128GB Storage) | 6000mAh Battery | Upto 12GB RAM with RAM Plus',\n",
              " 'Redmi A2 (Aqua Blue, 2GB RAM, 32GB Storage) | Powerful Octa Core G36 Processor | Upto 7GB RAM | Large 16.5 cm HD+ Display with Massive 5000mAh Battery | 2 Years Warranty [Limited time Offer]',\n",
              " 'OnePlus Nord CE 3 Lite 5G (Chromatic Gray, 8GB RAM, 128GB Storage)',\n",
              " 'OnePlus Nord CE 2 Lite 5G (Black Dusk, 6GB RAM, 128GB Storage)',\n",
              " 'realme narzo N55 (Prime Black, 4GB+64GB) 33W Segment Fastest Charging | Super High-res 64MP Primary AI Camera',\n",
              " 'Redmi 12C (Royal Blue, 4GB RAM, 64GB Storage) | High Performance Mediatek Helio G85 | Big 17cm(6.71) HD+ Display with 5000mAh(typ) Battery',\n",
              " 'realme narzo 50i Prime (Dark Blue 4GB RAM+64GB Storage) Octa-core Processor | 5000 mAh Battery',\n",
              " 'Redmi 11 Prime 5G (Chrome Silver, 4GB RAM 64GB ROM) | Prime Design | MTK Dimensity 700 | 50 MP Dual Cam | 5000mAh | 7 Band 5G',\n",
              " 'Samsung Galaxy M53 5G (Deep Ocean Blue, 8GB, 128GB Storage) | 108MP | sAmoled+ 120Hz | 16GB RAM with RAM Plus | Without Charger',\n",
              " 'realme narzo N55 (Prime Black, 6GB+128GB) 33W Segment Fastest Charging | Super High-res 64MP Primary AI Camera',\n",
              " 'realme narzo N55 (Prime Blue, 6GB+128GB) 33W Segment Fastest Charging | Super High-res 64MP Primary AI Camera',\n",
              " 'Redmi 11 Prime 5G (Thunder Black, 4GB RAM, 64GB Storage) | Prime Design | MTK Dimensity 700 | 50 MP Dual Cam | 5000mAh | 7 Band 5G',\n",
              " 'Samsung Galaxy M13 (Midnight Blue, 6GB, 128GB Storage) | 6000mAh Battery | Upto 12GB RAM with RAM Plus']"
            ]
          },
          "metadata": {},
          "execution_count": 37
        }
      ]
    },
    {
      "cell_type": "code",
      "source": [
        "price = soup.find_all(\"span\", attrs = {\"class\":\"a-price-whole\"})\n",
        "len(price)"
      ],
      "metadata": {
        "colab": {
          "base_uri": "https://localhost:8080/"
        },
        "id": "O8G_YSf8p04b",
        "outputId": "b8325a4c-f758-4737-eb13-500039ddd07e"
      },
      "execution_count": null,
      "outputs": [
        {
          "output_type": "execute_result",
          "data": {
            "text/plain": [
              "16"
            ]
          },
          "metadata": {},
          "execution_count": 38
        }
      ]
    },
    {
      "cell_type": "code",
      "source": [
        "pri=[]\n",
        "\n",
        "for i in price:\n",
        "  i= i.get_text().replace(\"\\n\",\" \")\n",
        "  pri.append(i)\n",
        "\n",
        "pri"
      ],
      "metadata": {
        "colab": {
          "base_uri": "https://localhost:8080/"
        },
        "id": "nk5v29LeqlBJ",
        "outputId": "d5315766-bec7-4b2a-d7be-1adf87bbc922"
      },
      "execution_count": null,
      "outputs": [
        {
          "output_type": "execute_result",
          "data": {
            "text/plain": [
              "['7,299',\n",
              " '7,299',\n",
              " '19,999',\n",
              " '11,699',\n",
              " '5,899',\n",
              " '19,999',\n",
              " '17,999',\n",
              " '10,999',\n",
              " '8,799',\n",
              " '7,399',\n",
              " '12,999',\n",
              " '27,999',\n",
              " '12,999',\n",
              " '12,999',\n",
              " '12,999',\n",
              " '11,699']"
            ]
          },
          "metadata": {},
          "execution_count": 39
        }
      ]
    },
    {
      "cell_type": "code",
      "source": [
        "rating = soup.find_all(\"i\", attrs = {\"class\": \"a-icon a-icon-star-small a-star-small-4 aok-align-bottom\"})\n",
        "len(rating)"
      ],
      "metadata": {
        "colab": {
          "base_uri": "https://localhost:8080/"
        },
        "id": "hy3DIB9CqlsS",
        "outputId": "dd8b8be3-03b3-489e-f10f-b1427fa46a0c"
      },
      "execution_count": null,
      "outputs": [
        {
          "output_type": "execute_result",
          "data": {
            "text/plain": [
              "16"
            ]
          },
          "metadata": {},
          "execution_count": 40
        }
      ]
    },
    {
      "cell_type": "code",
      "source": [
        "rate = []\n",
        "\n",
        "for i in rating:\n",
        "  i = i.get_text().replace(\"\\n\", \" \")\n",
        "  rate.append(i)\n",
        "\n",
        "rate"
      ],
      "metadata": {
        "colab": {
          "base_uri": "https://localhost:8080/"
        },
        "id": "t2Za_3qpq4Zn",
        "outputId": "5002d21f-4a0f-4b08-8d04-ff806524c974"
      },
      "execution_count": null,
      "outputs": [
        {
          "output_type": "execute_result",
          "data": {
            "text/plain": [
              "['3.9 out of 5 stars',\n",
              " '3.9 out of 5 stars',\n",
              " '4.1 out of 5 stars',\n",
              " '4.1 out of 5 stars',\n",
              " '3.8 out of 5 stars',\n",
              " '4.1 out of 5 stars',\n",
              " '4.2 out of 5 stars',\n",
              " '4.1 out of 5 stars',\n",
              " '4.0 out of 5 stars',\n",
              " '4.0 out of 5 stars',\n",
              " '4.0 out of 5 stars',\n",
              " '3.9 out of 5 stars',\n",
              " '4.1 out of 5 stars',\n",
              " '4.1 out of 5 stars',\n",
              " '4.0 out of 5 stars',\n",
              " '4.1 out of 5 stars']"
            ]
          },
          "metadata": {},
          "execution_count": 41
        }
      ]
    },
    {
      "cell_type": "code",
      "source": [
        "data=pd.DataFrame()"
      ],
      "metadata": {
        "id": "TC7om2V_rQ0f"
      },
      "execution_count": null,
      "outputs": []
    },
    {
      "cell_type": "code",
      "source": [
        "data['title'] = tit\n",
        "data['price'] = pri\n",
        "data['rating'] = rate\n",
        "\n",
        "data.head()\n"
      ],
      "metadata": {
        "colab": {
          "base_uri": "https://localhost:8080/",
          "height": 206
        },
        "id": "m1uTBNZDrQrK",
        "outputId": "13676a17-2455-4785-8497-ad1996fb6691"
      },
      "execution_count": null,
      "outputs": [
        {
          "output_type": "execute_result",
          "data": {
            "text/plain": [
              "                                               title   price  \\\n",
              "0  Samsung Galaxy M04 Dark Blue, 4GB RAM, 64GB St...   7,299   \n",
              "1  Samsung Galaxy M04 Light Green, 4GB RAM, 64GB ...   7,299   \n",
              "2  OnePlus Nord CE 3 Lite 5G (Pastel Lime, 8GB RA...  19,999   \n",
              "3  Samsung Galaxy M13 (Aqua Green, 6GB, 128GB Sto...  11,699   \n",
              "4  Redmi A2 (Aqua Blue, 2GB RAM, 32GB Storage) | ...   5,899   \n",
              "\n",
              "               rating  \n",
              "0  3.9 out of 5 stars  \n",
              "1  3.9 out of 5 stars  \n",
              "2  4.1 out of 5 stars  \n",
              "3  4.1 out of 5 stars  \n",
              "4  3.8 out of 5 stars  "
            ],
            "text/html": [
              "\n",
              "  <div id=\"df-a2b92670-fd9c-4fc0-ac31-370b8d292ee2\">\n",
              "    <div class=\"colab-df-container\">\n",
              "      <div>\n",
              "<style scoped>\n",
              "    .dataframe tbody tr th:only-of-type {\n",
              "        vertical-align: middle;\n",
              "    }\n",
              "\n",
              "    .dataframe tbody tr th {\n",
              "        vertical-align: top;\n",
              "    }\n",
              "\n",
              "    .dataframe thead th {\n",
              "        text-align: right;\n",
              "    }\n",
              "</style>\n",
              "<table border=\"1\" class=\"dataframe\">\n",
              "  <thead>\n",
              "    <tr style=\"text-align: right;\">\n",
              "      <th></th>\n",
              "      <th>title</th>\n",
              "      <th>price</th>\n",
              "      <th>rating</th>\n",
              "    </tr>\n",
              "  </thead>\n",
              "  <tbody>\n",
              "    <tr>\n",
              "      <th>0</th>\n",
              "      <td>Samsung Galaxy M04 Dark Blue, 4GB RAM, 64GB St...</td>\n",
              "      <td>7,299</td>\n",
              "      <td>3.9 out of 5 stars</td>\n",
              "    </tr>\n",
              "    <tr>\n",
              "      <th>1</th>\n",
              "      <td>Samsung Galaxy M04 Light Green, 4GB RAM, 64GB ...</td>\n",
              "      <td>7,299</td>\n",
              "      <td>3.9 out of 5 stars</td>\n",
              "    </tr>\n",
              "    <tr>\n",
              "      <th>2</th>\n",
              "      <td>OnePlus Nord CE 3 Lite 5G (Pastel Lime, 8GB RA...</td>\n",
              "      <td>19,999</td>\n",
              "      <td>4.1 out of 5 stars</td>\n",
              "    </tr>\n",
              "    <tr>\n",
              "      <th>3</th>\n",
              "      <td>Samsung Galaxy M13 (Aqua Green, 6GB, 128GB Sto...</td>\n",
              "      <td>11,699</td>\n",
              "      <td>4.1 out of 5 stars</td>\n",
              "    </tr>\n",
              "    <tr>\n",
              "      <th>4</th>\n",
              "      <td>Redmi A2 (Aqua Blue, 2GB RAM, 32GB Storage) | ...</td>\n",
              "      <td>5,899</td>\n",
              "      <td>3.8 out of 5 stars</td>\n",
              "    </tr>\n",
              "  </tbody>\n",
              "</table>\n",
              "</div>\n",
              "      <button class=\"colab-df-convert\" onclick=\"convertToInteractive('df-a2b92670-fd9c-4fc0-ac31-370b8d292ee2')\"\n",
              "              title=\"Convert this dataframe to an interactive table.\"\n",
              "              style=\"display:none;\">\n",
              "        \n",
              "  <svg xmlns=\"http://www.w3.org/2000/svg\" height=\"24px\"viewBox=\"0 0 24 24\"\n",
              "       width=\"24px\">\n",
              "    <path d=\"M0 0h24v24H0V0z\" fill=\"none\"/>\n",
              "    <path d=\"M18.56 5.44l.94 2.06.94-2.06 2.06-.94-2.06-.94-.94-2.06-.94 2.06-2.06.94zm-11 1L8.5 8.5l.94-2.06 2.06-.94-2.06-.94L8.5 2.5l-.94 2.06-2.06.94zm10 10l.94 2.06.94-2.06 2.06-.94-2.06-.94-.94-2.06-.94 2.06-2.06.94z\"/><path d=\"M17.41 7.96l-1.37-1.37c-.4-.4-.92-.59-1.43-.59-.52 0-1.04.2-1.43.59L10.3 9.45l-7.72 7.72c-.78.78-.78 2.05 0 2.83L4 21.41c.39.39.9.59 1.41.59.51 0 1.02-.2 1.41-.59l7.78-7.78 2.81-2.81c.8-.78.8-2.07 0-2.86zM5.41 20L4 18.59l7.72-7.72 1.47 1.35L5.41 20z\"/>\n",
              "  </svg>\n",
              "      </button>\n",
              "      \n",
              "  <style>\n",
              "    .colab-df-container {\n",
              "      display:flex;\n",
              "      flex-wrap:wrap;\n",
              "      gap: 12px;\n",
              "    }\n",
              "\n",
              "    .colab-df-convert {\n",
              "      background-color: #E8F0FE;\n",
              "      border: none;\n",
              "      border-radius: 50%;\n",
              "      cursor: pointer;\n",
              "      display: none;\n",
              "      fill: #1967D2;\n",
              "      height: 32px;\n",
              "      padding: 0 0 0 0;\n",
              "      width: 32px;\n",
              "    }\n",
              "\n",
              "    .colab-df-convert:hover {\n",
              "      background-color: #E2EBFA;\n",
              "      box-shadow: 0px 1px 2px rgba(60, 64, 67, 0.3), 0px 1px 3px 1px rgba(60, 64, 67, 0.15);\n",
              "      fill: #174EA6;\n",
              "    }\n",
              "\n",
              "    [theme=dark] .colab-df-convert {\n",
              "      background-color: #3B4455;\n",
              "      fill: #D2E3FC;\n",
              "    }\n",
              "\n",
              "    [theme=dark] .colab-df-convert:hover {\n",
              "      background-color: #434B5C;\n",
              "      box-shadow: 0px 1px 3px 1px rgba(0, 0, 0, 0.15);\n",
              "      filter: drop-shadow(0px 1px 2px rgba(0, 0, 0, 0.3));\n",
              "      fill: #FFFFFF;\n",
              "    }\n",
              "  </style>\n",
              "\n",
              "      <script>\n",
              "        const buttonEl =\n",
              "          document.querySelector('#df-a2b92670-fd9c-4fc0-ac31-370b8d292ee2 button.colab-df-convert');\n",
              "        buttonEl.style.display =\n",
              "          google.colab.kernel.accessAllowed ? 'block' : 'none';\n",
              "\n",
              "        async function convertToInteractive(key) {\n",
              "          const element = document.querySelector('#df-a2b92670-fd9c-4fc0-ac31-370b8d292ee2');\n",
              "          const dataTable =\n",
              "            await google.colab.kernel.invokeFunction('convertToInteractive',\n",
              "                                                     [key], {});\n",
              "          if (!dataTable) return;\n",
              "\n",
              "          const docLinkHtml = 'Like what you see? Visit the ' +\n",
              "            '<a target=\"_blank\" href=https://colab.research.google.com/notebooks/data_table.ipynb>data table notebook</a>'\n",
              "            + ' to learn more about interactive tables.';\n",
              "          element.innerHTML = '';\n",
              "          dataTable['output_type'] = 'display_data';\n",
              "          await google.colab.output.renderOutput(dataTable, element);\n",
              "          const docLink = document.createElement('div');\n",
              "          docLink.innerHTML = docLinkHtml;\n",
              "          element.appendChild(docLink);\n",
              "        }\n",
              "      </script>\n",
              "    </div>\n",
              "  </div>\n",
              "  "
            ]
          },
          "metadata": {},
          "execution_count": 44
        }
      ]
    }
  ]
}